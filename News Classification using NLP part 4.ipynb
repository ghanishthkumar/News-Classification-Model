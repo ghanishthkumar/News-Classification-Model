{
 "cells": [
  {
   "cell_type": "code",
   "execution_count": 1,
   "metadata": {},
   "outputs": [],
   "source": [
    "import pandas as pd\n",
    "import seaborn as sns\n",
    "import numpy as np\n",
    "import matplotlib.pyplot as plt"
   ]
  },
  {
   "cell_type": "code",
   "execution_count": 2,
   "metadata": {},
   "outputs": [],
   "source": [
    "train_df = pd.read_csv('train_df.csv')"
   ]
  },
  {
   "cell_type": "code",
   "execution_count": 3,
   "metadata": {},
   "outputs": [],
   "source": [
    "train_df = train_df.drop(['Unnamed: 0'],axis = 'columns')"
   ]
  },
  {
   "cell_type": "code",
   "execution_count": 4,
   "metadata": {},
   "outputs": [
    {
     "data": {
      "text/html": [
       "<div>\n",
       "<style scoped>\n",
       "    .dataframe tbody tr th:only-of-type {\n",
       "        vertical-align: middle;\n",
       "    }\n",
       "\n",
       "    .dataframe tbody tr th {\n",
       "        vertical-align: top;\n",
       "    }\n",
       "\n",
       "    .dataframe thead th {\n",
       "        text-align: right;\n",
       "    }\n",
       "</style>\n",
       "<table border=\"1\" class=\"dataframe\">\n",
       "  <thead>\n",
       "    <tr style=\"text-align: right;\">\n",
       "      <th></th>\n",
       "      <th>able</th>\n",
       "      <th>abu</th>\n",
       "      <th>abuse</th>\n",
       "      <th>access</th>\n",
       "      <th>according</th>\n",
       "      <th>account</th>\n",
       "      <th>accounting</th>\n",
       "      <th>accused</th>\n",
       "      <th>acquire</th>\n",
       "      <th>acquisition</th>\n",
       "      <th>...</th>\n",
       "      <th>yet</th>\n",
       "      <th>york</th>\n",
       "      <th>york reuters</th>\n",
       "      <th>york yankee</th>\n",
       "      <th>young</th>\n",
       "      <th>yukos</th>\n",
       "      <th>zealand</th>\n",
       "      <th>zimbabwe</th>\n",
       "      <th>zone</th>\n",
       "      <th>Class Index</th>\n",
       "    </tr>\n",
       "  </thead>\n",
       "  <tbody>\n",
       "    <tr>\n",
       "      <th>0</th>\n",
       "      <td>0.0</td>\n",
       "      <td>0.0</td>\n",
       "      <td>0.0</td>\n",
       "      <td>0.0</td>\n",
       "      <td>0.0</td>\n",
       "      <td>0.0</td>\n",
       "      <td>0.0</td>\n",
       "      <td>0.000000</td>\n",
       "      <td>0.0</td>\n",
       "      <td>0.0</td>\n",
       "      <td>...</td>\n",
       "      <td>0.0</td>\n",
       "      <td>0.0</td>\n",
       "      <td>0.0</td>\n",
       "      <td>0.0</td>\n",
       "      <td>0.0</td>\n",
       "      <td>0.0</td>\n",
       "      <td>0.0</td>\n",
       "      <td>0.0</td>\n",
       "      <td>0.0</td>\n",
       "      <td>1</td>\n",
       "    </tr>\n",
       "    <tr>\n",
       "      <th>1</th>\n",
       "      <td>0.0</td>\n",
       "      <td>0.0</td>\n",
       "      <td>0.0</td>\n",
       "      <td>0.0</td>\n",
       "      <td>0.0</td>\n",
       "      <td>0.0</td>\n",
       "      <td>0.0</td>\n",
       "      <td>0.269783</td>\n",
       "      <td>0.0</td>\n",
       "      <td>0.0</td>\n",
       "      <td>...</td>\n",
       "      <td>0.0</td>\n",
       "      <td>0.0</td>\n",
       "      <td>0.0</td>\n",
       "      <td>0.0</td>\n",
       "      <td>0.0</td>\n",
       "      <td>0.0</td>\n",
       "      <td>0.0</td>\n",
       "      <td>0.0</td>\n",
       "      <td>0.0</td>\n",
       "      <td>1</td>\n",
       "    </tr>\n",
       "    <tr>\n",
       "      <th>2</th>\n",
       "      <td>0.0</td>\n",
       "      <td>0.0</td>\n",
       "      <td>0.0</td>\n",
       "      <td>0.0</td>\n",
       "      <td>0.0</td>\n",
       "      <td>0.0</td>\n",
       "      <td>0.0</td>\n",
       "      <td>0.000000</td>\n",
       "      <td>0.0</td>\n",
       "      <td>0.0</td>\n",
       "      <td>...</td>\n",
       "      <td>0.0</td>\n",
       "      <td>0.0</td>\n",
       "      <td>0.0</td>\n",
       "      <td>0.0</td>\n",
       "      <td>0.0</td>\n",
       "      <td>0.0</td>\n",
       "      <td>0.0</td>\n",
       "      <td>0.0</td>\n",
       "      <td>0.0</td>\n",
       "      <td>3</td>\n",
       "    </tr>\n",
       "  </tbody>\n",
       "</table>\n",
       "<p>3 rows × 2001 columns</p>\n",
       "</div>"
      ],
      "text/plain": [
       "   able  abu  abuse  access  according  account  accounting   accused  \\\n",
       "0   0.0  0.0    0.0     0.0        0.0      0.0         0.0  0.000000   \n",
       "1   0.0  0.0    0.0     0.0        0.0      0.0         0.0  0.269783   \n",
       "2   0.0  0.0    0.0     0.0        0.0      0.0         0.0  0.000000   \n",
       "\n",
       "   acquire  acquisition  ...  yet  york  york reuters  york yankee  young  \\\n",
       "0      0.0          0.0  ...  0.0   0.0           0.0          0.0    0.0   \n",
       "1      0.0          0.0  ...  0.0   0.0           0.0          0.0    0.0   \n",
       "2      0.0          0.0  ...  0.0   0.0           0.0          0.0    0.0   \n",
       "\n",
       "   yukos  zealand  zimbabwe  zone  Class Index  \n",
       "0    0.0      0.0       0.0   0.0            1  \n",
       "1    0.0      0.0       0.0   0.0            1  \n",
       "2    0.0      0.0       0.0   0.0            3  \n",
       "\n",
       "[3 rows x 2001 columns]"
      ]
     },
     "execution_count": 4,
     "metadata": {},
     "output_type": "execute_result"
    }
   ],
   "source": [
    "train_df.head(3)"
   ]
  },
  {
   "cell_type": "code",
   "execution_count": 5,
   "metadata": {},
   "outputs": [],
   "source": [
    "X_train = train_df.drop(['Class Index'],axis = 'columns')"
   ]
  },
  {
   "cell_type": "code",
   "execution_count": 6,
   "metadata": {},
   "outputs": [],
   "source": [
    "y_train = train_df['Class Index']"
   ]
  },
  {
   "cell_type": "code",
   "execution_count": 7,
   "metadata": {},
   "outputs": [
    {
     "data": {
      "text/plain": [
       "(81664,)"
      ]
     },
     "execution_count": 7,
     "metadata": {},
     "output_type": "execute_result"
    }
   ],
   "source": [
    "y_train.shape"
   ]
  },
  {
   "cell_type": "code",
   "execution_count": 8,
   "metadata": {},
   "outputs": [
    {
     "data": {
      "text/plain": [
       "(81664, 2000)"
      ]
     },
     "execution_count": 8,
     "metadata": {},
     "output_type": "execute_result"
    }
   ],
   "source": [
    "X_train.shape"
   ]
  },
  {
   "cell_type": "code",
   "execution_count": 9,
   "metadata": {},
   "outputs": [],
   "source": [
    "test_df = pd.read_csv('test_df.csv')"
   ]
  },
  {
   "cell_type": "code",
   "execution_count": 10,
   "metadata": {},
   "outputs": [],
   "source": [
    "test_df = test_df.drop(['Unnamed: 0'],axis = 'columns')"
   ]
  },
  {
   "cell_type": "code",
   "execution_count": 11,
   "metadata": {},
   "outputs": [
    {
     "data": {
      "text/html": [
       "<div>\n",
       "<style scoped>\n",
       "    .dataframe tbody tr th:only-of-type {\n",
       "        vertical-align: middle;\n",
       "    }\n",
       "\n",
       "    .dataframe tbody tr th {\n",
       "        vertical-align: top;\n",
       "    }\n",
       "\n",
       "    .dataframe thead th {\n",
       "        text-align: right;\n",
       "    }\n",
       "</style>\n",
       "<table border=\"1\" class=\"dataframe\">\n",
       "  <thead>\n",
       "    <tr style=\"text-align: right;\">\n",
       "      <th></th>\n",
       "      <th>able</th>\n",
       "      <th>abu</th>\n",
       "      <th>abuse</th>\n",
       "      <th>access</th>\n",
       "      <th>according</th>\n",
       "      <th>account</th>\n",
       "      <th>accounting</th>\n",
       "      <th>accused</th>\n",
       "      <th>acquire</th>\n",
       "      <th>acquisition</th>\n",
       "      <th>...</th>\n",
       "      <th>yet</th>\n",
       "      <th>york</th>\n",
       "      <th>york reuters</th>\n",
       "      <th>york yankee</th>\n",
       "      <th>young</th>\n",
       "      <th>yukos</th>\n",
       "      <th>zealand</th>\n",
       "      <th>zimbabwe</th>\n",
       "      <th>zone</th>\n",
       "      <th>Class Index</th>\n",
       "    </tr>\n",
       "  </thead>\n",
       "  <tbody>\n",
       "    <tr>\n",
       "      <th>0</th>\n",
       "      <td>0.0</td>\n",
       "      <td>0.0</td>\n",
       "      <td>0.0</td>\n",
       "      <td>0.0</td>\n",
       "      <td>0.0</td>\n",
       "      <td>0.0</td>\n",
       "      <td>0.0</td>\n",
       "      <td>0.0</td>\n",
       "      <td>0.0</td>\n",
       "      <td>0.0</td>\n",
       "      <td>...</td>\n",
       "      <td>0.0</td>\n",
       "      <td>0.0</td>\n",
       "      <td>0.0</td>\n",
       "      <td>0.0</td>\n",
       "      <td>0.0</td>\n",
       "      <td>0.0</td>\n",
       "      <td>0.0</td>\n",
       "      <td>0.0</td>\n",
       "      <td>0.000000</td>\n",
       "      <td>1</td>\n",
       "    </tr>\n",
       "    <tr>\n",
       "      <th>1</th>\n",
       "      <td>0.0</td>\n",
       "      <td>0.0</td>\n",
       "      <td>0.0</td>\n",
       "      <td>0.0</td>\n",
       "      <td>0.0</td>\n",
       "      <td>0.0</td>\n",
       "      <td>0.0</td>\n",
       "      <td>0.0</td>\n",
       "      <td>0.0</td>\n",
       "      <td>0.0</td>\n",
       "      <td>...</td>\n",
       "      <td>0.0</td>\n",
       "      <td>0.0</td>\n",
       "      <td>0.0</td>\n",
       "      <td>0.0</td>\n",
       "      <td>0.0</td>\n",
       "      <td>0.0</td>\n",
       "      <td>0.0</td>\n",
       "      <td>0.0</td>\n",
       "      <td>0.180698</td>\n",
       "      <td>1</td>\n",
       "    </tr>\n",
       "    <tr>\n",
       "      <th>2</th>\n",
       "      <td>0.0</td>\n",
       "      <td>0.0</td>\n",
       "      <td>0.0</td>\n",
       "      <td>0.0</td>\n",
       "      <td>0.0</td>\n",
       "      <td>0.0</td>\n",
       "      <td>0.0</td>\n",
       "      <td>0.0</td>\n",
       "      <td>0.0</td>\n",
       "      <td>0.0</td>\n",
       "      <td>...</td>\n",
       "      <td>0.0</td>\n",
       "      <td>0.0</td>\n",
       "      <td>0.0</td>\n",
       "      <td>0.0</td>\n",
       "      <td>0.0</td>\n",
       "      <td>0.0</td>\n",
       "      <td>0.0</td>\n",
       "      <td>0.0</td>\n",
       "      <td>0.000000</td>\n",
       "      <td>1</td>\n",
       "    </tr>\n",
       "  </tbody>\n",
       "</table>\n",
       "<p>3 rows × 2001 columns</p>\n",
       "</div>"
      ],
      "text/plain": [
       "   able  abu  abuse  access  according  account  accounting  accused  acquire  \\\n",
       "0   0.0  0.0    0.0     0.0        0.0      0.0         0.0      0.0      0.0   \n",
       "1   0.0  0.0    0.0     0.0        0.0      0.0         0.0      0.0      0.0   \n",
       "2   0.0  0.0    0.0     0.0        0.0      0.0         0.0      0.0      0.0   \n",
       "\n",
       "   acquisition  ...  yet  york  york reuters  york yankee  young  yukos  \\\n",
       "0          0.0  ...  0.0   0.0           0.0          0.0    0.0    0.0   \n",
       "1          0.0  ...  0.0   0.0           0.0          0.0    0.0    0.0   \n",
       "2          0.0  ...  0.0   0.0           0.0          0.0    0.0    0.0   \n",
       "\n",
       "   zealand  zimbabwe      zone  Class Index  \n",
       "0      0.0       0.0  0.000000            1  \n",
       "1      0.0       0.0  0.180698            1  \n",
       "2      0.0       0.0  0.000000            1  \n",
       "\n",
       "[3 rows x 2001 columns]"
      ]
     },
     "execution_count": 11,
     "metadata": {},
     "output_type": "execute_result"
    }
   ],
   "source": [
    "test_df.head(3)"
   ]
  },
  {
   "cell_type": "code",
   "execution_count": 12,
   "metadata": {},
   "outputs": [],
   "source": [
    "X_test = test_df.drop(['Class Index'],axis = 'columns')"
   ]
  },
  {
   "cell_type": "code",
   "execution_count": 13,
   "metadata": {},
   "outputs": [],
   "source": [
    "y_test = test_df['Class Index']"
   ]
  },
  {
   "cell_type": "code",
   "execution_count": 14,
   "metadata": {},
   "outputs": [
    {
     "data": {
      "text/plain": [
       "(25520, 2000)"
      ]
     },
     "execution_count": 14,
     "metadata": {},
     "output_type": "execute_result"
    }
   ],
   "source": [
    "X_test.shape"
   ]
  },
  {
   "cell_type": "code",
   "execution_count": 15,
   "metadata": {},
   "outputs": [],
   "source": [
    "val_df = pd.read_csv('val_df.csv')"
   ]
  },
  {
   "cell_type": "code",
   "execution_count": 16,
   "metadata": {},
   "outputs": [],
   "source": [
    "val_df = val_df.drop(['Unnamed: 0'],axis = 'columns')"
   ]
  },
  {
   "cell_type": "code",
   "execution_count": 17,
   "metadata": {},
   "outputs": [
    {
     "data": {
      "text/html": [
       "<div>\n",
       "<style scoped>\n",
       "    .dataframe tbody tr th:only-of-type {\n",
       "        vertical-align: middle;\n",
       "    }\n",
       "\n",
       "    .dataframe tbody tr th {\n",
       "        vertical-align: top;\n",
       "    }\n",
       "\n",
       "    .dataframe thead th {\n",
       "        text-align: right;\n",
       "    }\n",
       "</style>\n",
       "<table border=\"1\" class=\"dataframe\">\n",
       "  <thead>\n",
       "    <tr style=\"text-align: right;\">\n",
       "      <th></th>\n",
       "      <th>able</th>\n",
       "      <th>abu</th>\n",
       "      <th>abuse</th>\n",
       "      <th>access</th>\n",
       "      <th>according</th>\n",
       "      <th>account</th>\n",
       "      <th>accounting</th>\n",
       "      <th>accused</th>\n",
       "      <th>acquire</th>\n",
       "      <th>acquisition</th>\n",
       "      <th>...</th>\n",
       "      <th>yet</th>\n",
       "      <th>york</th>\n",
       "      <th>york reuters</th>\n",
       "      <th>york yankee</th>\n",
       "      <th>young</th>\n",
       "      <th>yukos</th>\n",
       "      <th>zealand</th>\n",
       "      <th>zimbabwe</th>\n",
       "      <th>zone</th>\n",
       "      <th>Class Index</th>\n",
       "    </tr>\n",
       "  </thead>\n",
       "  <tbody>\n",
       "    <tr>\n",
       "      <th>0</th>\n",
       "      <td>0.0</td>\n",
       "      <td>0.0</td>\n",
       "      <td>0.0</td>\n",
       "      <td>0.0</td>\n",
       "      <td>0.0</td>\n",
       "      <td>0.0</td>\n",
       "      <td>0.0</td>\n",
       "      <td>0.0</td>\n",
       "      <td>0.0</td>\n",
       "      <td>0.0</td>\n",
       "      <td>...</td>\n",
       "      <td>0.0</td>\n",
       "      <td>0.0</td>\n",
       "      <td>0.0</td>\n",
       "      <td>0.0</td>\n",
       "      <td>0.0</td>\n",
       "      <td>0.0</td>\n",
       "      <td>0.000000</td>\n",
       "      <td>0.560624</td>\n",
       "      <td>0.0</td>\n",
       "      <td>2</td>\n",
       "    </tr>\n",
       "    <tr>\n",
       "      <th>1</th>\n",
       "      <td>0.0</td>\n",
       "      <td>0.0</td>\n",
       "      <td>0.0</td>\n",
       "      <td>0.0</td>\n",
       "      <td>0.0</td>\n",
       "      <td>0.0</td>\n",
       "      <td>0.0</td>\n",
       "      <td>0.0</td>\n",
       "      <td>0.0</td>\n",
       "      <td>0.0</td>\n",
       "      <td>...</td>\n",
       "      <td>0.0</td>\n",
       "      <td>0.0</td>\n",
       "      <td>0.0</td>\n",
       "      <td>0.0</td>\n",
       "      <td>0.0</td>\n",
       "      <td>0.0</td>\n",
       "      <td>0.000000</td>\n",
       "      <td>0.000000</td>\n",
       "      <td>0.0</td>\n",
       "      <td>4</td>\n",
       "    </tr>\n",
       "    <tr>\n",
       "      <th>2</th>\n",
       "      <td>0.0</td>\n",
       "      <td>0.0</td>\n",
       "      <td>0.0</td>\n",
       "      <td>0.0</td>\n",
       "      <td>0.0</td>\n",
       "      <td>0.0</td>\n",
       "      <td>0.0</td>\n",
       "      <td>0.0</td>\n",
       "      <td>0.0</td>\n",
       "      <td>0.0</td>\n",
       "      <td>...</td>\n",
       "      <td>0.0</td>\n",
       "      <td>0.0</td>\n",
       "      <td>0.0</td>\n",
       "      <td>0.0</td>\n",
       "      <td>0.0</td>\n",
       "      <td>0.0</td>\n",
       "      <td>0.478845</td>\n",
       "      <td>0.000000</td>\n",
       "      <td>0.0</td>\n",
       "      <td>2</td>\n",
       "    </tr>\n",
       "  </tbody>\n",
       "</table>\n",
       "<p>3 rows × 2001 columns</p>\n",
       "</div>"
      ],
      "text/plain": [
       "   able  abu  abuse  access  according  account  accounting  accused  acquire  \\\n",
       "0   0.0  0.0    0.0     0.0        0.0      0.0         0.0      0.0      0.0   \n",
       "1   0.0  0.0    0.0     0.0        0.0      0.0         0.0      0.0      0.0   \n",
       "2   0.0  0.0    0.0     0.0        0.0      0.0         0.0      0.0      0.0   \n",
       "\n",
       "   acquisition  ...  yet  york  york reuters  york yankee  young  yukos  \\\n",
       "0          0.0  ...  0.0   0.0           0.0          0.0    0.0    0.0   \n",
       "1          0.0  ...  0.0   0.0           0.0          0.0    0.0    0.0   \n",
       "2          0.0  ...  0.0   0.0           0.0          0.0    0.0    0.0   \n",
       "\n",
       "    zealand  zimbabwe  zone  Class Index  \n",
       "0  0.000000  0.560624   0.0            2  \n",
       "1  0.000000  0.000000   0.0            4  \n",
       "2  0.478845  0.000000   0.0            2  \n",
       "\n",
       "[3 rows x 2001 columns]"
      ]
     },
     "execution_count": 17,
     "metadata": {},
     "output_type": "execute_result"
    }
   ],
   "source": [
    "val_df.head(3)"
   ]
  },
  {
   "cell_type": "code",
   "execution_count": 18,
   "metadata": {},
   "outputs": [],
   "source": [
    "X_val = val_df.drop(['Class Index'],axis = 'columns')"
   ]
  },
  {
   "cell_type": "code",
   "execution_count": 19,
   "metadata": {},
   "outputs": [],
   "source": [
    "y_val = val_df['Class Index']"
   ]
  },
  {
   "cell_type": "code",
   "execution_count": 20,
   "metadata": {},
   "outputs": [
    {
     "data": {
      "text/plain": [
       "(20416, 2000)"
      ]
     },
     "execution_count": 20,
     "metadata": {},
     "output_type": "execute_result"
    }
   ],
   "source": [
    "X_val.shape"
   ]
  },
  {
   "cell_type": "code",
   "execution_count": 21,
   "metadata": {},
   "outputs": [
    {
     "data": {
      "text/plain": [
       "(20416,)"
      ]
     },
     "execution_count": 21,
     "metadata": {},
     "output_type": "execute_result"
    }
   ],
   "source": [
    "y_val.shape"
   ]
  },
  {
   "cell_type": "markdown",
   "metadata": {},
   "source": [
    "# 7. Apply Machine Learning Models"
   ]
  },
  {
   "cell_type": "markdown",
   "metadata": {},
   "source": [
    "<img src=\"logistic.jpg\" width=\"600\" height=\"400\">"
   ]
  },
  {
   "cell_type": "code",
   "execution_count": 22,
   "metadata": {},
   "outputs": [],
   "source": [
    "from sklearn.linear_model import LogisticRegression\n",
    "from sklearn.metrics import confusion_matrix\n",
    "from sklearn.metrics import plot_confusion_matrix\n",
    "from sklearn.metrics import classification_report\n",
    "from sklearn.metrics import accuracy_score"
   ]
  },
  {
   "cell_type": "code",
   "execution_count": 23,
   "metadata": {},
   "outputs": [],
   "source": [
    "#https://scikit-learn.org/stable/modules/generated/sklearn.linear_model.LogisticRegression.html\n",
    "#sklearn.linear_model.LogisticRegression\n",
    "lr_model = LogisticRegression(penalty='l2',solver= 'newton-cg',multi_class= 'multinomial')\n",
    "# L2 = L2 regularization helps to overcome (overfitting vs underfitting)\n",
    "# solver = newton-cg ... For multiclass problems, only ‘newton-cg’, ‘sag’, ‘saga’ and ‘lbfgs’ handle multinomial loss; ‘liblinear’ is limited to one-versus-rest schemes.\n",
    "lr_model.fit(X_train,y_train)\n",
    "pred = lr_model.predict(X_val)"
   ]
  },
  {
   "cell_type": "code",
   "execution_count": 24,
   "metadata": {},
   "outputs": [
    {
     "name": "stdout",
     "output_type": "stream",
     "text": [
      "first 20 actual labels\n",
      "[2, 4, 2, 1, 2, 3, 1, 1, 1, 3, 1, 1, 4, 1, 3, 1, 3, 2, 1, 3]\n",
      "first 20 predicted labels\n",
      "[1, 4, 2, 1, 2, 2, 1, 2, 1, 3, 1, 1, 3, 1, 2, 1, 3, 2, 1, 3]\n"
     ]
    }
   ],
   "source": [
    "print(\"first 20 actual labels\")\n",
    "print(y_val.tolist()[:20])\n",
    "print(\"first 20 predicted labels\")\n",
    "print(pred.tolist()[:20])"
   ]
  },
  {
   "cell_type": "markdown",
   "metadata": {},
   "source": [
    "### Confusion Matrix"
   ]
  },
  {
   "cell_type": "code",
   "execution_count": 25,
   "metadata": {},
   "outputs": [],
   "source": [
    "def confusion_mat(color):\n",
    "    cof=confusion_matrix(y_val, pred)\n",
    "    cof=pd.DataFrame(cof, index=[i for i in range(1,5)], columns=[i for i in range(1,5)])\n",
    "    sns.set(font_scale=1.5)\n",
    "    plt.figure(figsize=(8,8));\n",
    "\n",
    "    sns.heatmap(cof, cmap=color,linewidths=1, annot=True,square=True, fmt='d', cbar=False,xticklabels=['World','Sports','Business','Science'],yticklabels=['World','Sports','Business','Science']);\n",
    "    plt.xlabel(\"Predicted Classes\");\n",
    "    plt.ylabel(\"Actual Classes\");"
   ]
  },
  {
   "cell_type": "code",
   "execution_count": 26,
   "metadata": {},
   "outputs": [
    {
     "data": {
      "image/png": "[encoded data removed]",
      "text/plain": [
       "<Figure size 576x576 with 1 Axes>"
      ]
     },
     "metadata": {},
     "output_type": "display_data"
    }
   ],
   "source": [
    "confusion_mat('YlGnBu')"
   ]
  },
  {
   "cell_type": "markdown",
   "metadata": {},
   "source": [
    "### Precision , Recall ,F1-Score"
   ]
  },
  {
   "cell_type": "code",
   "execution_count": 27,
   "metadata": {},
   "outputs": [
    {
     "name": "stdout",
     "output_type": "stream",
     "text": [
      "\n",
      "Classification Report\n",
      "\n",
      "              precision    recall  f1-score   support\n",
      "\n",
      "           1       0.91      0.88      0.89      5104\n",
      "           2       0.94      0.96      0.95      5104\n",
      "           3       0.86      0.87      0.86      5104\n",
      "           4       0.87      0.86      0.86      5104\n",
      "\n",
      "    accuracy                           0.89     20416\n",
      "   macro avg       0.89      0.89      0.89     20416\n",
      "weighted avg       0.89      0.89      0.89     20416\n",
      "\n"
     ]
    }
   ],
   "source": [
    "print('\\nClassification Report\\n')\n",
    "print(classification_report(y_val,pred))"
   ]
  },
  {
   "cell_type": "markdown",
   "metadata": {},
   "source": [
    "#### Pr = True Positive / True Positive + False Positive\n",
    "\n",
    "#### Recall = True positive rate = True Positive / Positive\n",
    "\n",
    "#### F1 = 2 * [Pr * re / Pr + re]\n",
    "\n",
    "Note: Precision : All points which are predicted to be positive out of that how many are actual positive\n",
    "\n",
    "      Recall: All the Actual positive points out of that how many are Predicted positive"
   ]
  },
  {
   "cell_type": "markdown",
   "metadata": {},
   "source": [
    "### Accuracy , Error"
   ]
  },
  {
   "cell_type": "code",
   "execution_count": 28,
   "metadata": {},
   "outputs": [
    {
     "name": "stdout",
     "output_type": "stream",
     "text": [
      "Accuracy: 89.2045\n",
      "Error: 10.7955\n"
     ]
    }
   ],
   "source": [
    "a1 = round(accuracy_score(y_val,pred)*100,4)\n",
    "a2 = round(100-accuracy_score(y_val,pred)*100,4)\n",
    "print('Accuracy:',a1)\n",
    "print('Error:',a2)"
   ]
  },
  {
   "cell_type": "markdown",
   "metadata": {},
   "source": [
    "#### Accuracy = [Number of Correctly classified points / Total number of points in Dtest]\n",
    "\n",
    "#### Error = 1 - Accuracy"
   ]
  },
  {
   "cell_type": "markdown",
   "metadata": {},
   "source": [
    "# Stocastic Gradient Descent"
   ]
  },
  {
   "cell_type": "markdown",
   "metadata": {},
   "source": [
    "<img src=\"sgd2.jpg\" width=\"700\" height=\"700\">"
   ]
  },
  {
   "cell_type": "code",
   "execution_count": 29,
   "metadata": {},
   "outputs": [],
   "source": [
    "#https://scikit-learn.org/stable/modules/generated/sklearn.linear_model.SGDClassifier.html\n",
    "from sklearn.linear_model import SGDClassifier"
   ]
  },
  {
   "cell_type": "code",
   "execution_count": 30,
   "metadata": {},
   "outputs": [],
   "source": [
    "sgd_model = SGDClassifier(early_stopping=True,penalty='l2',alpha=0.00001)\n",
    "sgd_model.fit(X_train,y_train)\n",
    "pred_sgd = sgd_model.predict(X_val)"
   ]
  },
  {
   "cell_type": "code",
   "execution_count": 31,
   "metadata": {},
   "outputs": [
    {
     "name": "stdout",
     "output_type": "stream",
     "text": [
      "first 20 actual labels\n",
      "[2, 4, 2, 1, 2, 3, 1, 1, 1, 3, 1, 1, 4, 1, 3, 1, 3, 2, 1, 3]\n",
      "first 20 predicted labels\n",
      "[2, 4, 2, 1, 2, 2, 3, 2, 1, 3, 1, 1, 3, 1, 2, 1, 3, 2, 1, 3]\n"
     ]
    }
   ],
   "source": [
    "print(\"first 20 actual labels\")\n",
    "print(y_val.tolist()[:20])\n",
    "print(\"first 20 predicted labels\")\n",
    "print(pred_sgd.tolist()[:20])"
   ]
  },
  {
   "cell_type": "markdown",
   "metadata": {},
   "source": [
    "## Confusion matrix"
   ]
  },
  {
   "cell_type": "code",
   "execution_count": 32,
   "metadata": {},
   "outputs": [],
   "source": [
    "def confusion_mat(color):\n",
    "    cof=confusion_matrix(y_val, pred_sgd)\n",
    "    cof=pd.DataFrame(cof, index=[i for i in range(1,5)], columns=[i for i in range(1,5)])\n",
    "    sns.set(font_scale=1.5)\n",
    "    plt.figure(figsize=(8,8));\n",
    "\n",
    "    sns.heatmap(cof, cmap=color,linewidths=1, annot=True,square=True, fmt='d', cbar=False,xticklabels=['World','Sports','Business','Science'],yticklabels=['World','Sports','Business','Science']);\n",
    "    plt.xlabel(\"Predicted Classes\");\n",
    "    plt.ylabel(\"Actual Classes\");"
   ]
  },
  {
   "cell_type": "code",
   "execution_count": 33,
   "metadata": {},
   "outputs": [
    {
     "data": {
      "image/png": "[encoded data removed]",
      "text/plain": [
       "<Figure size 576x576 with 1 Axes>"
      ]
     },
     "metadata": {},
     "output_type": "display_data"
    }
   ],
   "source": [
    "confusion_mat('Greys')"
   ]
  },
  {
   "cell_type": "markdown",
   "metadata": {},
   "source": [
    "## Precision ,Recall,F1-Score"
   ]
  },
  {
   "cell_type": "code",
   "execution_count": 34,
   "metadata": {},
   "outputs": [
    {
     "name": "stdout",
     "output_type": "stream",
     "text": [
      "\n",
      "Classification Report\n",
      "\n",
      "              precision    recall  f1-score   support\n",
      "\n",
      "           1       0.94      0.85      0.89      5104\n",
      "           2       0.92      0.97      0.94      5104\n",
      "           3       0.76      0.93      0.84      5104\n",
      "           4       0.92      0.75      0.83      5104\n",
      "\n",
      "    accuracy                           0.87     20416\n",
      "   macro avg       0.88      0.87      0.87     20416\n",
      "weighted avg       0.88      0.87      0.87     20416\n",
      "\n"
     ]
    }
   ],
   "source": [
    "print('\\nClassification Report\\n')\n",
    "print((classification_report(y_val,pred_sgd)))"
   ]
  },
  {
   "cell_type": "markdown",
   "metadata": {},
   "source": [
    "## Accuracy"
   ]
  },
  {
   "cell_type": "code",
   "execution_count": 35,
   "metadata": {},
   "outputs": [
    {
     "name": "stdout",
     "output_type": "stream",
     "text": [
      "Accuracy: 87.4363\n",
      "Error: 12.5637\n"
     ]
    }
   ],
   "source": [
    "b1 = round(accuracy_score(y_val,pred_sgd)*100,4)\n",
    "b2 = round(100-accuracy_score(y_val,pred_sgd)*100,4)\n",
    "print('Accuracy:',b1)\n",
    "print('Error:',b2)"
   ]
  },
  {
   "cell_type": "markdown",
   "metadata": {},
   "source": [
    "# Decision Tree Algorithm"
   ]
  },
  {
   "cell_type": "markdown",
   "metadata": {},
   "source": [
    "<img src=\"decisiontree.jpg\" width=\"700\" height=\"700\">"
   ]
  },
  {
   "cell_type": "code",
   "execution_count": 36,
   "metadata": {},
   "outputs": [],
   "source": [
    "from sklearn.tree import DecisionTreeClassifier"
   ]
  },
  {
   "cell_type": "code",
   "execution_count": 37,
   "metadata": {},
   "outputs": [],
   "source": [
    "dt_model = DecisionTreeClassifier(criterion='gini')\n",
    "dt_model.fit(X_train,y_train)\n",
    "pred_dtg = dt_model.predict(X_val)"
   ]
  },
  {
   "cell_type": "code",
   "execution_count": 38,
   "metadata": {},
   "outputs": [
    {
     "name": "stdout",
     "output_type": "stream",
     "text": [
      "first 20 actual labels\n",
      "[2, 4, 2, 1, 2, 3, 1, 1, 1, 3, 1, 1, 4, 1, 3, 1, 3, 2, 1, 3]\n",
      "first 20 predicted labels\n",
      "[2, 4, 2, 1, 2, 3, 1, 2, 1, 3, 1, 1, 3, 1, 1, 1, 3, 2, 3, 4]\n"
     ]
    }
   ],
   "source": [
    "print(\"first 20 actual labels\")\n",
    "print(y_val.tolist()[:20])\n",
    "print(\"first 20 predicted labels\")\n",
    "print(pred_dtg.tolist()[:20])"
   ]
  },
  {
   "cell_type": "markdown",
   "metadata": {},
   "source": [
    "### Confusion matrix"
   ]
  },
  {
   "cell_type": "code",
   "execution_count": 39,
   "metadata": {},
   "outputs": [],
   "source": [
    "def confusion_mat(color):\n",
    "    cof=confusion_matrix(y_val, pred_dtg)\n",
    "    cof=pd.DataFrame(cof, index=[i for i in range(1,5)], columns=[i for i in range(1,5)])\n",
    "    sns.set(font_scale=1.5)\n",
    "    plt.figure(figsize=(8,8));\n",
    "\n",
    "    sns.heatmap(cof, cmap=color,linewidths=1, annot=True,square=True, fmt='d', cbar=False,xticklabels=['World','Sports','Business','Science'],yticklabels=['World','Sports','Business','Science']);\n",
    "    plt.xlabel(\"Predicted Classes\");\n",
    "    plt.ylabel(\"Actual Classes\");"
   ]
  },
  {
   "cell_type": "code",
   "execution_count": 40,
   "metadata": {},
   "outputs": [
    {
     "data": {
      "image/png": "[encoded data removed]",
      "text/plain": [
       "<Figure size 576x576 with 1 Axes>"
      ]
     },
     "metadata": {},
     "output_type": "display_data"
    }
   ],
   "source": [
    "confusion_mat('RdYlBu')"
   ]
  },
  {
   "cell_type": "markdown",
   "metadata": {},
   "source": [
    "### Precision, Recall ,F1-Score"
   ]
  },
  {
   "cell_type": "code",
   "execution_count": 41,
   "metadata": {},
   "outputs": [
    {
     "name": "stdout",
     "output_type": "stream",
     "text": [
      "\n",
      "Classification Report\n",
      "\n",
      "              precision    recall  f1-score   support\n",
      "\n",
      "           1       0.82      0.82      0.82      5104\n",
      "           2       0.87      0.89      0.88      5104\n",
      "           3       0.77      0.77      0.77      5104\n",
      "           4       0.78      0.76      0.77      5104\n",
      "\n",
      "    accuracy                           0.81     20416\n",
      "   macro avg       0.81      0.81      0.81     20416\n",
      "weighted avg       0.81      0.81      0.81     20416\n",
      "\n"
     ]
    }
   ],
   "source": [
    "print('\\nClassification Report\\n')\n",
    "print((classification_report(y_val,pred_dtg)))"
   ]
  },
  {
   "cell_type": "markdown",
   "metadata": {},
   "source": [
    "### Accuracy"
   ]
  },
  {
   "cell_type": "code",
   "execution_count": 42,
   "metadata": {},
   "outputs": [
    {
     "name": "stdout",
     "output_type": "stream",
     "text": [
      "Accuracy: 81.059\n",
      "Error: 18.941\n"
     ]
    }
   ],
   "source": [
    "c1 = round(accuracy_score(y_val,pred_dtg)*100,4)\n",
    "c2 = round(100-accuracy_score(y_val,pred_dtg)*100,4)\n",
    "print('Accuracy:',c1)\n",
    "print('Error:',c2)"
   ]
  },
  {
   "cell_type": "markdown",
   "metadata": {},
   "source": [
    "# Comparison of Accuracies of Different Models for Dtrain and Dvalidation"
   ]
  },
  {
   "cell_type": "code",
   "execution_count": 43,
   "metadata": {},
   "outputs": [
    {
     "data": {
      "image/png": "[encoded data removed]",
      "text/plain": [
       "<Figure size 432x288 with 1 Axes>"
      ]
     },
     "metadata": {},
     "output_type": "display_data"
    }
   ],
   "source": [
    "sns.set()\n",
    "fig = plt.figure()\n",
    "ax = fig.add_axes([0,0,1,1])\n",
    "Models = [\"Logistic_Regression\",\"Stocastic_Gradient_Descent\",\"Decison_Tree\"]\n",
    "Accuracy=[a1,b1,c1]\n",
    "ax.bar(Models,Accuracy,color=['#702963','#8a2be2','#9966cc']);\n",
    "for i in ax.patches:\n",
    "    ax.text(i.get_x()+.1, i.get_height()-7.8, str(round(i.get_height(),2))+'%', fontsize=20, color='white')\n",
    "plt.title('Comparison of Different Classification Models');\n",
    "plt.ylabel('Accuracy');\n",
    "plt.xlabel('Classification Models');\n",
    "\n",
    "plt.show();"
   ]
  },
  {
   "cell_type": "markdown",
   "metadata": {},
   "source": [
    "### Till now we used Dtrain and Dval data now we have to work on Dtest (ie: Unseen data and observe the accuracy on it)"
   ]
  },
  {
   "cell_type": "markdown",
   "metadata": {},
   "source": [
    "# Checking accuracy for Unseen data (Dtest) in Logistic Regression"
   ]
  },
  {
   "cell_type": "code",
   "execution_count": 44,
   "metadata": {},
   "outputs": [],
   "source": [
    "pred_lr_for_unseen = lr_model.predict(X_test)"
   ]
  },
  {
   "cell_type": "code",
   "execution_count": 46,
   "metadata": {},
   "outputs": [
    {
     "name": "stdout",
     "output_type": "stream",
     "text": [
      "Accuracy: 89.4044\n",
      "Error: 10.5956\n"
     ]
    }
   ],
   "source": [
    "a11 = round(accuracy_score(y_test,pred_lr_for_unseen)*100,4)\n",
    "a22 = round(100-accuracy_score(y_test,pred_lr_for_unseen)*100,4)\n",
    "print('Accuracy:',a11)\n",
    "print('Error:',a22)"
   ]
  },
  {
   "cell_type": "markdown",
   "metadata": {},
   "source": [
    "# Checking accuracy for Unseen data (Dtest) in SGD"
   ]
  },
  {
   "cell_type": "code",
   "execution_count": 47,
   "metadata": {},
   "outputs": [],
   "source": [
    "pred_sgd_for_unseen = sgd_model.predict(X_test)"
   ]
  },
  {
   "cell_type": "code",
   "execution_count": 50,
   "metadata": {},
   "outputs": [
    {
     "name": "stdout",
     "output_type": "stream",
     "text": [
      "Accuracy: 87.355\n",
      "Error: 12.645\n"
     ]
    }
   ],
   "source": [
    "b11 = round(accuracy_score(y_test,pred_sgd_for_unseen)*100,4)\n",
    "b22 = round(100-accuracy_score(y_test,pred_sgd_for_unseen)*100,4)\n",
    "print('Accuracy:',b11)\n",
    "print('Error:',b22)"
   ]
  },
  {
   "cell_type": "markdown",
   "metadata": {},
   "source": [
    "# Checking accuracy for Unseen data (Dtest) in Decision Tree"
   ]
  },
  {
   "cell_type": "code",
   "execution_count": 51,
   "metadata": {},
   "outputs": [],
   "source": [
    "pred_dtg_for_unseen = dt_model.predict(X_test)"
   ]
  },
  {
   "cell_type": "code",
   "execution_count": 54,
   "metadata": {},
   "outputs": [
    {
     "name": "stdout",
     "output_type": "stream",
     "text": [
      "Accuracy: 80.4389\n",
      "Error: 19.5611\n"
     ]
    }
   ],
   "source": [
    "c11 = round(accuracy_score(y_test,pred_dtg_for_unseen)*100,4)\n",
    "c22 = round(100-accuracy_score(y_test,pred_dtg_for_unseen)*100,4)\n",
    "print('Accuracy:',c11)\n",
    "print('Error:',c22)"
   ]
  },
  {
   "cell_type": "markdown",
   "metadata": {},
   "source": [
    "# Comparison of Accuracies of Different Models on Unseen data (Dtest)"
   ]
  },
  {
   "cell_type": "code",
   "execution_count": 55,
   "metadata": {},
   "outputs": [
    {
     "data": {
      "image/png": "[encoded data removed]",
      "text/plain": [
       "<Figure size 432x288 with 1 Axes>"
      ]
     },
     "metadata": {},
     "output_type": "display_data"
    }
   ],
   "source": [
    "sns.set()\n",
    "fig = plt.figure()\n",
    "ax = fig.add_axes([0,0,1,1])\n",
    "Models = [\"Logistic_Regression\",\"Stocastic_Gradient_Descent\",\"Decison_Tree\"]\n",
    "Accuracy=[a11,b11,c11]\n",
    "ax.bar(Models,Accuracy,color=['#702963','#8a2be2','#9966cc']);\n",
    "for i in ax.patches:\n",
    "    ax.text(i.get_x()+.1, i.get_height()-7.8, str(round(i.get_height(),2))+'%', fontsize=20, color='white')\n",
    "plt.title('Comparison of Different Classification Models');\n",
    "plt.ylabel('Accuracy');\n",
    "plt.xlabel('Classification Models');\n",
    "\n",
    "plt.show();"
   ]
  },
  {
   "cell_type": "code",
   "execution_count": null,
   "metadata": {},
   "outputs": [],
   "source": []
  }
 ],
 "metadata": {
  "kernelspec": {
   "display_name": "Python 3",
   "language": "python",
   "name": "python3"
  },
  "language_info": {
   "codemirror_mode": {
    "name": "ipython",
    "version": 3
   },
   "file_extension": ".py",
   "mimetype": "text/x-python",
   "name": "python",
   "nbconvert_exporter": "python",
   "pygments_lexer": "ipython3",
   "version": "3.6.9"
  }
 },
 "nbformat": 4,
 "nbformat_minor": 4
}
